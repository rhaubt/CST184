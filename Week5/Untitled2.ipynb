{
 "cells": [
  {
   "cell_type": "code",
   "execution_count": 1,
   "id": "4fbfc3ba-ac14-4c14-9586-a07a0a1fc1a7",
   "metadata": {},
   "outputs": [
    {
     "name": "stdout",
     "output_type": "stream",
     "text": [
      "Union (SDG6 ∪ SDG13): {'Norway', 'Kenya', 'Brazil', 'Germany', 'India', 'Nepal'}\n",
      "Intersection (SDG6 ∩ SDG13): {'Brazil', 'Kenya'}\n",
      "Difference (SDG6 - SDG13): {'India', 'Nepal'}\n",
      "Number of countries working on SDG6: 4\n",
      "\n",
      "---\n",
      "\n",
      "SDG Scores (as relations):\n",
      "Nepal: 65\n",
      "Kenya: 58\n",
      "Brazil: 70\n",
      "\n",
      "---\n",
      "\n",
      "CO₂ emissions per capita:\n",
      "Nepal: 0.3 tonnes\n",
      "Kenya: 0.5 tonnes\n",
      "Brazil: 2.1 tonnes\n",
      "\n",
      "Brazil's emissions per capita: 2.1\n"
     ]
    }
   ],
   "source": [
    "\n",
    "# --- SETS ---\n",
    "\n",
    "# Create two sets of countries working on different SDGs\n",
    "sdg6_countries = {\"Nepal\", \"Kenya\", \"Brazil\", \"India\"}\n",
    "sdg13_countries = {\"Brazil\", \"Kenya\", \"Norway\", \"Germany\"}\n",
    "\n",
    "# Union: All countries involved in either SDG\n",
    "print(\"Union (SDG6 ∪ SDG13):\", sdg6_countries.union(sdg13_countries))\n",
    "\n",
    "# Intersection: Countries working on both\n",
    "print(\"Intersection (SDG6 ∩ SDG13):\", sdg6_countries.intersection(sdg13_countries))\n",
    "\n",
    "# Difference: Countries working only on SDG6\n",
    "print(\"Difference (SDG6 - SDG13):\", sdg6_countries.difference(sdg13_countries))\n",
    "\n",
    "# Cardinality\n",
    "print(\"Number of countries working on SDG6:\", len(sdg6_countries))\n",
    "\n",
    "print(\"\\n---\\n\")\n",
    "\n",
    "# --- RELATIONS (as tuples) ---\n",
    "\n",
    "# Each pair represents (Country, SDG Score)\n",
    "sdg_scores = [(\"Nepal\", 65), (\"Kenya\", 58), (\"Brazil\", 70)]\n",
    "\n",
    "print(\"SDG Scores (as relations):\")\n",
    "for country, score in sdg_scores:\n",
    "    print(f\"{country}: {score}\")\n",
    "\n",
    "print(\"\\n---\\n\")\n",
    "\n",
    "# --- FUNCTIONS (as dictionaries) ---\n",
    "\n",
    "# Representing SDG progress as a function: one value per country\n",
    "emissions_per_capita = {\n",
    "    \"Nepal\": 0.3,\n",
    "    \"Kenya\": 0.5,\n",
    "    \"Brazil\": 2.1\n",
    "}\n",
    "\n",
    "print(\"CO₂ emissions per capita:\")\n",
    "for country, emissions in emissions_per_capita.items():\n",
    "    print(f\"{country}: {emissions} tonnes\")\n",
    "\n",
    "# Example: Accessing a value from the function\n",
    "print(\"\\nBrazil's emissions per capita:\", emissions_per_capita[\"Brazil\"])\n",
    "\n"
   ]
  },
  {
   "cell_type": "code",
   "execution_count": null,
   "id": "2580c7e3-07cf-48b4-a72d-247bbe7368c6",
   "metadata": {},
   "outputs": [],
   "source": []
  }
 ],
 "metadata": {
  "kernelspec": {
   "display_name": "Python 3 (ipykernel)",
   "language": "python",
   "name": "python3"
  },
  "language_info": {
   "codemirror_mode": {
    "name": "ipython",
    "version": 3
   },
   "file_extension": ".py",
   "mimetype": "text/x-python",
   "name": "python",
   "nbconvert_exporter": "python",
   "pygments_lexer": "ipython3",
   "version": "3.12.10"
  }
 },
 "nbformat": 4,
 "nbformat_minor": 5
}
