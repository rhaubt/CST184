{
 "cells": [
  {
   "cell_type": "code",
   "execution_count": null,
   "id": "7a9018f9-8037-4abb-937d-788c421c0e30",
   "metadata": {},
   "outputs": [],
   "source": []
  }
 ],
 "metadata": {
  "kernelspec": {
   "display_name": "",
   "name": ""
  },
  "language_info": {
   "name": ""
  }
 },
 "nbformat": 4,
 "nbformat_minor": 5
}
