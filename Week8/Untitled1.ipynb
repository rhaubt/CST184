{
 "cells": [
  {
   "cell_type": "code",
   "execution_count": 1,
   "id": "842e6d57-2a8d-4ae5-a38b-ce1a77ea4123",
   "metadata": {},
   "outputs": [
    {
     "name": "stdout",
     "output_type": "stream",
     "text": [
      "[1]  5 10 15 20 25\n"
     ]
    }
   ],
   "source": [
    "# Create a vector\n",
    "v <- c(5, 10, 15, 20, 25)\n",
    "print(v)"
   ]
  },
  {
   "cell_type": "code",
   "execution_count": 2,
   "id": "0ee9125c-5473-4589-97d8-ad5d093cf7d7",
   "metadata": {},
   "outputs": [
    {
     "name": "stdout",
     "output_type": "stream",
     "text": [
      "     [,1] [,2] [,3]\n",
      "[1,]    1    3    5\n",
      "[2,]    2    4    6\n"
     ]
    }
   ],
   "source": [
    "m <- matrix(1:6, nrow=2, ncol=3)\n",
    "print(m)"
   ]
  },
  {
   "cell_type": "code",
   "execution_count": 3,
   "id": "9638febd-65c9-4d95-8b88-6bdac18bc3c8",
   "metadata": {},
   "outputs": [
    {
     "data": {
      "text/html": [
       "6"
      ],
      "text/latex": [
       "6"
      ],
      "text/markdown": [
       "6"
      ],
      "text/plain": [
       "[1] 6"
      ]
     },
     "metadata": {},
     "output_type": "display_data"
    }
   ],
   "source": [
    "m[2, 3]"
   ]
  },
  {
   "cell_type": "code",
   "execution_count": 4,
   "id": "7802fcdf-f61f-4885-b29d-72a20af1c42f",
   "metadata": {},
   "outputs": [
    {
     "name": "stdout",
     "output_type": "stream",
     "text": [
      "     [,1] [,2] [,3]\n",
      "[1,]    1   99    5\n",
      "[2,]    2    4    6\n"
     ]
    }
   ],
   "source": [
    "m[1, 2] <- 99\n",
    "print(m)\n"
   ]
  },
  {
   "cell_type": "code",
   "execution_count": 5,
   "id": "245f33ca-321b-41a8-8ada-8adb9f8f33ca",
   "metadata": {},
   "outputs": [
    {
     "name": "stdout",
     "output_type": "stream",
     "text": [
      "     [,1] [,2]\n",
      "[1,]    2   10\n",
      "[2,]    4   14\n"
     ]
    }
   ],
   "source": [
    "a <- matrix(c(1, 2, 3, 4), nrow=2)\n",
    "b <- matrix(c(2, 0, 1, 3), nrow=2)\n",
    "\n",
    "result <- a %*% b\n",
    "print(result)\n"
   ]
  },
  {
   "cell_type": "code",
   "execution_count": 6,
   "id": "964f5d8c-7bc3-4483-a78e-8ddbcbdd7810",
   "metadata": {},
   "outputs": [
    {
     "name": "stdout",
     "output_type": "stream",
     "text": [
      "  CO2 Temp Deforestation\n",
      "A 9.2  1.1           0.8\n",
      "B 6.5  0.9           1.2\n",
      "C 2.3  0.7           2.5\n",
      "D 3.8  1.0           1.5\n",
      "E 7.1  1.2           0.9\n"
     ]
    }
   ],
   "source": [
    "# Create a 5x3 matrix: [CO2, Temp Anomaly, Deforestation Rate]\n",
    "climate <- matrix(c(\n",
    "  9.2, 1.1, 0.8,   # Country A\n",
    "  6.5, 0.9, 1.2,   # Country B\n",
    "  2.3, 0.7, 2.5,   # Country C\n",
    "  3.8, 1.0, 1.5,   # Country D\n",
    "  7.1, 1.2, 0.9    # Country E\n",
    "), nrow=5, byrow=TRUE)\n",
    "\n",
    "colnames(climate) <- c(\"CO2\", \"Temp\", \"Deforestation\")\n",
    "rownames(climate) <- c(\"A\", \"B\", \"C\", \"D\", \"E\")\n",
    "\n",
    "print(climate)"
   ]
  },
  {
   "cell_type": "code",
   "execution_count": 7,
   "id": "a67c88a8-87e4-4554-9b3e-20af0c07a5c2",
   "metadata": {},
   "outputs": [
    {
     "name": "stdout",
     "output_type": "stream",
     "text": [
      "         CO2       Temp Deforestation\n",
      "A  1.2490573  0.6238503    -0.8487300\n",
      "B  0.2629594 -0.4159002    -0.2633990\n",
      "C -1.2709706 -1.4556507     1.6389269\n",
      "D -0.7231384  0.1039750     0.1755993\n",
      "E  0.4820923  1.1437255    -0.7023972\n",
      "attr(,\"scaled:center\")\n",
      "          CO2          Temp Deforestation \n",
      "         5.78          0.98          1.38 \n",
      "attr(,\"scaled:scale\")\n",
      "          CO2          Temp Deforestation \n",
      "    2.7380650     0.1923538     0.6833740 \n"
     ]
    }
   ],
   "source": [
    "scaled_climate <- scale(climate)\n",
    "print(scaled_climate)"
   ]
  },
  {
   "cell_type": "code",
   "execution_count": 8,
   "id": "2defe8ba-72ef-488b-b120-db552e411870",
   "metadata": {},
   "outputs": [
    {
     "name": "stdout",
     "output_type": "stream",
     "text": [
      "        [,1]       [,2]       [,3]\n",
      "A  1.2490573  0.6238503  0.8487300\n",
      "B  0.2629594 -0.4159002  0.2633990\n",
      "C -1.2709706 -1.4556507 -1.6389269\n",
      "D -0.7231384  0.1039750 -0.1755993\n",
      "E  0.4820923  1.1437255  0.7023972\n"
     ]
    }
   ],
   "source": [
    "# Transformation matrix: keep CO2 and Temp, invert Deforestation\n",
    "flip <- matrix(c(1, 0, 0,\n",
    "                 0, 1, 0,\n",
    "                 0, 0, -1), nrow=3)\n",
    "\n",
    "transformed <- scaled_climate %*% flip\n",
    "print(transformed)"
   ]
  },
  {
   "cell_type": "code",
   "execution_count": 9,
   "id": "ec11b611-31a1-457b-88a7-590bf1cc7cff",
   "metadata": {},
   "outputs": [
    {
     "name": "stdout",
     "output_type": "stream",
     "text": [
      "             A          B         C          D         E\n",
      "[1,] 1.2490573  0.2629594 -1.270971 -0.7231384 0.4820923\n",
      "[2,] 0.6238503 -0.4159002 -1.455651  0.1039750 1.1437255\n",
      "[3,] 0.8487300  0.2633990 -1.638927 -0.1755993 0.7023972\n"
     ]
    }
   ],
   "source": [
    "transposed <- t(transformed)\n",
    "print(transposed)\n"
   ]
  },
  {
   "cell_type": "code",
   "execution_count": 10,
   "id": "9b204c6b-5517-4d10-b748-ae21a3176a58",
   "metadata": {},
   "outputs": [
    {
     "name": "stdout",
     "output_type": "stream",
     "text": [
      "        [,1]       [,2]       [,3]\n",
      "A  2.4981145  0.6238503  0.8487300\n",
      "B  0.5259188 -0.4159002  0.2633990\n",
      "C -2.5419411 -1.4556507 -1.6389269\n",
      "D -1.4462768  0.1039750 -0.1755993\n",
      "E  0.9641846  1.1437255  0.7023972\n"
     ]
    }
   ],
   "source": [
    "# Example: double the CO2 contribution\n",
    "weight <- matrix(c(2, 0, 0,\n",
    "                   0, 1, 0,\n",
    "                   0, 0, -1), nrow=3)\n",
    "\n",
    "adjusted <- scaled_climate %*% weight\n",
    "print(adjusted)"
   ]
  },
  {
   "cell_type": "code",
   "execution_count": null,
   "id": "aa6fde7d-bd21-4e92-906b-6e5b24e3730d",
   "metadata": {},
   "outputs": [],
   "source": []
  }
 ],
 "metadata": {
  "kernelspec": {
   "display_name": "R",
   "language": "R",
   "name": "ir"
  },
  "language_info": {
   "codemirror_mode": "r",
   "file_extension": ".r",
   "mimetype": "text/x-r-source",
   "name": "R",
   "pygments_lexer": "r",
   "version": "4.5.0"
  }
 },
 "nbformat": 4,
 "nbformat_minor": 5
}
