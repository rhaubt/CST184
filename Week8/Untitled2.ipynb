{
 "cells": [
  {
   "cell_type": "code",
   "execution_count": 1,
   "id": "b32c08ce-ec69-4f4e-b4ee-570aff07a061",
   "metadata": {},
   "outputs": [
    {
     "name": "stdout",
     "output_type": "stream",
     "text": [
      "  CO2 Temp Deforestation\n",
      "A 9.2  1.1           0.8\n",
      "B 6.5  0.9           1.2\n",
      "C 2.3  0.7           2.5\n",
      "D 3.8  1.0           1.5\n",
      "E 7.1  1.2           0.9\n"
     ]
    }
   ],
   "source": [
    "climate <- matrix(c(\n",
    "  9.2, 1.1, 0.8,\n",
    "  6.5, 0.9, 1.2,\n",
    "  2.3, 0.7, 2.5,\n",
    "  3.8, 1.0, 1.5,\n",
    "  7.1, 1.2, 0.9\n",
    "), nrow=5, byrow=TRUE)\n",
    "\n",
    "colnames(climate) <- c(\"CO2\", \"Temp\", \"Deforestation\")\n",
    "rownames(climate) <- c(\"A\", \"B\", \"C\", \"D\", \"E\")\n",
    "\n",
    "print(climate)"
   ]
  },
  {
   "cell_type": "code",
   "execution_count": 2,
   "id": "3b347bad-d19f-4151-9469-893aa4cfa659",
   "metadata": {},
   "outputs": [
    {
     "name": "stdout",
     "output_type": "stream",
     "text": [
      "         CO2       Temp Deforestation\n",
      "A  1.2490573  0.6238503    -0.8487300\n",
      "B  0.2629594 -0.4159002    -0.2633990\n",
      "C -1.2709706 -1.4556507     1.6389269\n",
      "D -0.7231384  0.1039750     0.1755993\n",
      "E  0.4820923  1.1437255    -0.7023972\n",
      "attr(,\"scaled:center\")\n",
      "          CO2          Temp Deforestation \n",
      "         5.78          0.98          1.38 \n",
      "attr(,\"scaled:scale\")\n",
      "          CO2          Temp Deforestation \n",
      "    2.7380650     0.1923538     0.6833740 \n"
     ]
    }
   ],
   "source": [
    "scaled_climate <- scale(climate)\n",
    "print(scaled_climate)\n"
   ]
  },
  {
   "cell_type": "code",
   "execution_count": 3,
   "id": "5c5490b2-0304-4a9e-9d4b-d4cbf37ae905",
   "metadata": {},
   "outputs": [
    {
     "name": "stdout",
     "output_type": "stream",
     "text": [
      "                     CO2       Temp Deforestation\n",
      "CO2            1.0000000  0.7490355    -0.9195016\n",
      "Temp           0.7490355  1.0000000    -0.8976824\n",
      "Deforestation -0.9195016 -0.8976824     1.0000000\n"
     ]
    }
   ],
   "source": [
    "cor_matrix <- cor(scaled_climate)\n",
    "print(cor_matrix)"
   ]
  },
  {
   "cell_type": "code",
   "execution_count": 4,
   "id": "e17845ab-8112-40b6-bb01-11434dd2564a",
   "metadata": {},
   "outputs": [
    {
     "name": "stdout",
     "output_type": "stream",
     "text": [
      "                     CO2       Temp Deforestation\n",
      "CO2            1.0000000  0.8327314    -0.9443520\n",
      "Temp           0.8327314  1.0000000    -0.8983852\n",
      "Deforestation -0.9443520 -0.8983852     1.0000000\n"
     ]
    }
   ],
   "source": [
    "climate <- rbind(climate, c(10.0, 1.5, 0.4))\n",
    "rownames(climate)[6] <- \"F\"\n",
    "\n",
    "scaled_climate <- scale(climate)\n",
    "cor_matrix <- cor(scaled_climate)\n",
    "print(cor_matrix)"
   ]
  },
  {
   "cell_type": "code",
   "execution_count": null,
   "id": "65cb5659-69be-42fb-82cb-1e677567e55c",
   "metadata": {},
   "outputs": [],
   "source": []
  }
 ],
 "metadata": {
  "kernelspec": {
   "display_name": "R",
   "language": "R",
   "name": "ir"
  },
  "language_info": {
   "codemirror_mode": "r",
   "file_extension": ".r",
   "mimetype": "text/x-r-source",
   "name": "R",
   "pygments_lexer": "r",
   "version": "4.5.0"
  }
 },
 "nbformat": 4,
 "nbformat_minor": 5
}
