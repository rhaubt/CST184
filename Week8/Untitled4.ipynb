{
 "cells": [
  {
   "cell_type": "code",
   "execution_count": null,
   "id": "eab6f054-9c23-4609-9f93-cab35319d99a",
   "metadata": {},
   "outputs": [],
   "source": []
  }
 ],
 "metadata": {
  "kernelspec": {
   "display_name": "",
   "name": ""
  },
  "language_info": {
   "name": ""
  }
 },
 "nbformat": 4,
 "nbformat_minor": 5
}
