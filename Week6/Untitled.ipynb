{
 "cells": [
  {
   "cell_type": "code",
   "execution_count": 1,
   "id": "46688a71-50a2-4660-ae62-85e15c7a2f61",
   "metadata": {},
   "outputs": [
    {
     "ename": "NameError",
     "evalue": "name 'pd' is not defined",
     "output_type": "error",
     "traceback": [
      "\u001b[31m---------------------------------------------------------------------------\u001b[39m",
      "\u001b[31mNameError\u001b[39m                                 Traceback (most recent call last)",
      "\u001b[36mCell\u001b[39m\u001b[36m \u001b[39m\u001b[32mIn[1]\u001b[39m\u001b[32m, line 2\u001b[39m\n\u001b[32m      1\u001b[39m \u001b[38;5;66;03m# Load the dataset\u001b[39;00m\n\u001b[32m----> \u001b[39m\u001b[32m2\u001b[39m df = \u001b[43mpd\u001b[49m.read_csv(\u001b[33m\"\u001b[39m\u001b[33mweek6_aggregation_example.csv\u001b[39m\u001b[33m\"\u001b[39m)\n\u001b[32m      3\u001b[39m df.head()\n",
      "\u001b[31mNameError\u001b[39m: name 'pd' is not defined"
     ]
    }
   ],
   "source": [
    "# Load the dataset\n",
    "df = pd.read_csv(\"week6_aggregation_example.csv\")\n",
    "df.head()"
   ]
  },
  {
   "cell_type": "code",
   "execution_count": 2,
   "id": "44d99194-a922-4a1c-9abb-a085caa7d136",
   "metadata": {},
   "outputs": [
    {
     "data": {
      "text/html": [
       "<div>\n",
       "<style scoped>\n",
       "    .dataframe tbody tr th:only-of-type {\n",
       "        vertical-align: middle;\n",
       "    }\n",
       "\n",
       "    .dataframe tbody tr th {\n",
       "        vertical-align: top;\n",
       "    }\n",
       "\n",
       "    .dataframe thead th {\n",
       "        text-align: right;\n",
       "    }\n",
       "</style>\n",
       "<table border=\"1\" class=\"dataframe\">\n",
       "  <thead>\n",
       "    <tr style=\"text-align: right;\">\n",
       "      <th></th>\n",
       "      <th>Region</th>\n",
       "      <th>Gender</th>\n",
       "      <th>Year</th>\n",
       "      <th>Attendance</th>\n",
       "    </tr>\n",
       "  </thead>\n",
       "  <tbody>\n",
       "    <tr>\n",
       "      <th>0</th>\n",
       "      <td>East</td>\n",
       "      <td>Female</td>\n",
       "      <td>2023</td>\n",
       "      <td>65.7</td>\n",
       "    </tr>\n",
       "    <tr>\n",
       "      <th>1</th>\n",
       "      <td>East</td>\n",
       "      <td>Female</td>\n",
       "      <td>2022</td>\n",
       "      <td>84.6</td>\n",
       "    </tr>\n",
       "    <tr>\n",
       "      <th>2</th>\n",
       "      <td>East</td>\n",
       "      <td>Female</td>\n",
       "      <td>2022</td>\n",
       "      <td>74.7</td>\n",
       "    </tr>\n",
       "    <tr>\n",
       "      <th>3</th>\n",
       "      <td>North</td>\n",
       "      <td>Female</td>\n",
       "      <td>2023</td>\n",
       "      <td>97.4</td>\n",
       "    </tr>\n",
       "    <tr>\n",
       "      <th>4</th>\n",
       "      <td>South</td>\n",
       "      <td>Male</td>\n",
       "      <td>2022</td>\n",
       "      <td>83.2</td>\n",
       "    </tr>\n",
       "  </tbody>\n",
       "</table>\n",
       "</div>"
      ],
      "text/plain": [
       "  Region  Gender  Year  Attendance\n",
       "0   East  Female  2023        65.7\n",
       "1   East  Female  2022        84.6\n",
       "2   East  Female  2022        74.7\n",
       "3  North  Female  2023        97.4\n",
       "4  South    Male  2022        83.2"
      ]
     },
     "execution_count": 2,
     "metadata": {},
     "output_type": "execute_result"
    }
   ],
   "source": [
    "import pandas as pd\n",
    "\n",
    "# Load the dataset\n",
    "df = pd.read_csv(\"week6_aggregation_example.csv\")\n",
    "df.head()"
   ]
  },
  {
   "cell_type": "code",
   "execution_count": 3,
   "id": "8580f061-6d73-4a3b-8b18-11411d4a0784",
   "metadata": {},
   "outputs": [
    {
     "name": "stdout",
     "output_type": "stream",
     "text": [
      "  Region  Attendance\n",
      "0   East   80.593939\n",
      "1  North   81.769231\n",
      "2  South   80.341176\n",
      "3   West   80.087500\n"
     ]
    }
   ],
   "source": [
    "regional_avg = df.groupby('Region')['Attendance'].mean().reset_index()\n",
    "print(regional_avg)"
   ]
  },
  {
   "cell_type": "code",
   "execution_count": 4,
   "id": "d17a40f8-fff2-454a-a85c-e38034c5b847",
   "metadata": {},
   "outputs": [
    {
     "name": "stdout",
     "output_type": "stream",
     "text": [
      "Gender     Female       Male\n",
      "Region                      \n",
      "East    79.352632  82.278571\n",
      "North   81.285714  82.333333\n",
      "South   80.214286  80.933333\n",
      "West    83.968750  72.325000\n"
     ]
    }
   ],
   "source": [
    "pivot = df.pivot_table(values='Attendance', index='Region', columns='Gender', aggfunc='mean')\n",
    "print(pivot)"
   ]
  },
  {
   "cell_type": "code",
   "execution_count": 5,
   "id": "e313fb00-e7e1-466b-a7f0-0c667dc1686d",
   "metadata": {},
   "outputs": [
    {
     "name": "stdout",
     "output_type": "stream",
     "text": [
      "  Region  Attendance\n",
      "0   East   83.276923\n",
      "1  North   82.655556\n",
      "2  South   79.920000\n",
      "3   West   85.000000\n"
     ]
    }
   ],
   "source": [
    "df_2023 = df[df['Year'] == 2023]\n",
    "avg_2023 = df_2023.groupby(['Region'])['Attendance'].mean().reset_index()\n",
    "print(avg_2023)\n"
   ]
  },
  {
   "cell_type": "code",
   "execution_count": 6,
   "id": "0ab2dce7-6ac6-4e7d-a24c-055262bac543",
   "metadata": {},
   "outputs": [
    {
     "name": "stdout",
     "output_type": "stream",
     "text": [
      "Region\n",
      "East     90.033333\n",
      "North    93.933333\n",
      "South    92.580000\n",
      "West     91.811111\n",
      "Name: Attendance, dtype: float64\n"
     ]
    }
   ],
   "source": [
    "# Example: High attendance female students\n",
    "filtered = df[(df['Gender'] == 'Female') & (df['Attendance'] > 85)]\n",
    "summary = filtered.groupby('Region')['Attendance'].mean()\n",
    "print(summary)"
   ]
  },
  {
   "cell_type": "code",
   "execution_count": null,
   "id": "fe20b798-3125-4602-8c53-2fe664f7bcc7",
   "metadata": {},
   "outputs": [],
   "source": []
  }
 ],
 "metadata": {
  "kernelspec": {
   "display_name": "Python 3 (ipykernel)",
   "language": "python",
   "name": "python3"
  },
  "language_info": {
   "codemirror_mode": {
    "name": "ipython",
    "version": 3
   },
   "file_extension": ".py",
   "mimetype": "text/x-python",
   "name": "python",
   "nbconvert_exporter": "python",
   "pygments_lexer": "ipython3",
   "version": "3.12.10"
  }
 },
 "nbformat": 4,
 "nbformat_minor": 5
}
